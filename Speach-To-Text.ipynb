{
 "cells": [
  {
   "cell_type": "markdown",
   "metadata": {},
   "source": [
    "### Speach-To-Text"
   ]
  },
  {
   "cell_type": "code",
   "execution_count": null,
   "metadata": {},
   "outputs": [],
   "source": [
    "import speech_recognition as sr\n",
    "\n",
    "def recognize_from_audio_file(file_path):\n",
    "    recognizer = sr.Recognizer()\n",
    "    \n",
    "    try:\n",
    "        with sr.AudioFile(file_path) as source:\n",
    "            print(\"Audio file opened successfully.\")\n",
    "            audio = recognizer.record(source)\n",
    "            print(\"Audio data read successfully.\")\n",
    "            \n",
    "            try:\n",
    "                text = recognizer.recognize_google(audio)\n",
    "                print(\"Transcription: \", text)\n",
    "            except sr.UnknownValueError:\n",
    "                print(\"Google Speech Recognition could not understand audio.\")\n",
    "            except sr.RequestError as e:\n",
    "                print(f\"Could not request results from Google Speech Recognition service; {e}\")\n",
    "    except Exception as e:\n",
    "        print(f\"Error processing the file: {e}\")\n",
    "\n",
    "if __name__ == \"__main__\":\n",
    "    wav_file = \"C:\\\\Users\\\\HP\\\\Downloads\\\\ef3e_elem_r&c11&12_reading_converted.wav\"\n",
    "    \n",
    "    # Recognize speech from WAV file\n",
    "    recognize_from_audio_file(wav_file)\n"
   ]
  },
  {
   "cell_type": "code",
   "execution_count": null,
   "metadata": {},
   "outputs": [],
   "source": [
    "import speech_recognition as sr\n",
    "import keyboard  # Key press detection library\n",
    "\n",
    "def listen_and_recognize():\n",
    "    recognizer = sr.Recognizer()\n",
    "    with sr.Microphone() as source:\n",
    "        print(\"Press 's' to start speaking, 'e' to end:\")\n",
    "        \n",
    "        while True:\n",
    "            if keyboard.is_pressed('s'):\n",
    "                print(\"Listening...\")\n",
    "                audio = recognizer.listen(source)\n",
    "                \n",
    "                try:\n",
    "                    text = recognizer.recognize_google(audio)\n",
    "                    print(\"You said:\", text)\n",
    "                except sr.UnknownValueError:\n",
    "                    print(\" I did not understand.\")\n",
    "                except sr.RequestError:\n",
    "                    print(\"Sorry, my speech service is down.\")\n",
    "                    \n",
    "            elif keyboard.is_pressed('e'):\n",
    "                print(\"Ending...\")\n",
    "                break  # Exit the loop and end the program\n",
    "try:\n",
    "    if __name__ == \"__main__\":\n",
    "        listen_and_recognize()\n",
    "except KeyboardInterrupt:\n",
    "    print(\"the program is stopping\")"
   ]
  }
 ],
 "metadata": {
  "language_info": {
   "name": "python"
  }
 },
 "nbformat": 4,
 "nbformat_minor": 2
}
