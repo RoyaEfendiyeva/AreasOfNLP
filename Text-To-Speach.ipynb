{
 "cells": [
  {
   "cell_type": "markdown",
   "metadata": {},
   "source": [
    "### Text-To-Speach"
   ]
  },
  {
   "cell_type": "code",
   "execution_count": null,
   "metadata": {},
   "outputs": [],
   "source": [
    "import pyttsx3\n",
    "\n",
    "def initialize_tts():\n",
    "    engine = pyttsx3.init()\n",
    "    return engine\n",
    "\n",
    "def set_voice(engine, gender='female'):\n",
    "    voices = engine.getProperty('voices')\n",
    "    if gender == 'female':\n",
    "        # Defaulting to first female voice; adjust index as necessary\n",
    "        engine.setProperty('voice', voices[1].id)  # Change index based on available voices\n",
    "    else:\n",
    "        # Defaulting to first male voice; adjust index as necessary\n",
    "        engine.setProperty('voice', voices[0].id)  # Change index based on available voices\n",
    "\n",
    "def set_rate(engine, rate):\n",
    "    # Set the speech rate (words per minute)\n",
    "    engine.setProperty('rate', rate)\n",
    "\n",
    "def speak_text_from_file(file_path, gender='female', rate=200):\n",
    "    engine = initialize_tts()\n",
    "    set_voice(engine, gender)\n",
    "    set_rate(engine, rate)\n",
    "    \n",
    "    with open(file_path, 'r', encoding='utf-8') as file:\n",
    "        text = file.read()\n",
    "    \n",
    "    engine.say(text)\n",
    "    engine.runAndWait()\n",
    "try:\n",
    "   if __name__ == \"__main__\":\n",
    "    file_path = input(\"Enter the path to the text file: \")\n",
    "    gender = input(\"Choose voice gender (male/female): \").strip().lower()\n",
    "    rate = int(input(\"Enter speech rate (words per minute, e.g., 150 for slow, 300 for fast): \").strip())\n",
    "    speak_text_from_file(file_path, gender, rate)\n",
    "except KeyboardInterrupt:\n",
    "    print(\"the program is stopping\")"
   ]
  }
 ],
 "metadata": {
  "language_info": {
   "name": "python"
  }
 },
 "nbformat": 4,
 "nbformat_minor": 2
}
