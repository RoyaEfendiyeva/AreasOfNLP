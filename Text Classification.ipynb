{
 "cells": [
  {
   "cell_type": "markdown",
   "metadata": {},
   "source": [
    "#### Text Classification"
   ]
  },
  {
   "cell_type": "code",
   "execution_count": null,
   "metadata": {},
   "outputs": [],
   "source": [
    "from sklearn.feature_extraction.text import TfidfVectorizer\n",
    "from sklearn.naive_bayes import MultinomialNB\n",
    "from deep_translator import GoogleTranslator\n",
    "from langdetect import detect\n",
    "\n",
    "# Database (in English and other languages)\n",
    "documents = [\n",
    "    \"I love this product\", \"I am dissatisfied this product\" ,\"This is the worst product ever\", \"This is the best product\",\"Great product and excellent service\",\n",
    "    \"I hate this so much\", \"Absolutely fantastic experience\", \"Not worth the money\",\n",
    "    \"Very satisfied with the results\", \"Terrible quality and service\", \n",
    "    \"Este producto es increíble\",  # Spanish\n",
    "    \"Ich hasse dieses Produkt\",  # German\n",
    "    \"C'est la pire chose que j'ai jamais achetée\",  # French\n",
    "    \"Bu məhsul çox gözəldir\",  # Azerbaijani\n",
    "    \"Məhsulun keyfiyyəti məni çox məyus etdi\" , # Azerbaijani\n",
    "    \n",
    "]\n",
    "labels = [1, 0,0, 1,1, 0, 1, 0, 1, 1, 1, 0, 0, 1, 0]  # 1: Positive, 0: Negative\n",
    "\n",
    "# TF-IDF vectorization\n",
    "vectorizer = TfidfVectorizer()\n",
    "X = vectorizer.fit_transform(documents)\n",
    "\n",
    "# Training a Naive Bayesian model\n",
    "model = MultinomialNB()\n",
    "model.fit(X, labels)\n",
    "\n",
    "# Acquisition and classification of new sentences from the database\n",
    "new_documents = [\n",
    "    \"Este es el mejor producto que he comprado\",  # Spanish\n",
    "    \"Ich bin extrem unzufrieden mit diesem Kauf\",  # German\n",
    "    \"Je recommande vivement ce produit\",  # French\n",
    "    \"Bu məhsulu çox bəyəndim\",  # Azerbaijani\n",
    "    \"Mən bu məhsulu heç bəyənmədim\",  # Azerbaijani\n",
    "]\n",
    "\n",
    "for new_document in new_documents:\n",
    "    # Automatic language detection\n",
    "    detected_lang = detect(new_document)\n",
    "    \n",
    "    # English translation\n",
    "    translated_document = GoogleTranslator(source=detected_lang, target='en').translate(new_document)\n",
    "    \n",
    "    # Classification of the translated sentence\n",
    "    new_X = vectorizer.transform([translated_document])\n",
    "    prediction = model.predict(new_X)\n",
    "    \n",
    "    print(f\"Original Sentence: {new_document} ({detected_lang})\")\n",
    "    print(f\"Translated Sentence: {translated_document}\")\n",
    "    print(\"Prediction:\", \"Positive\" if prediction[0] else \"Negative\")\n",
    "    print(\"-\" * 50)"
   ]
  }
 ],
 "metadata": {
  "language_info": {
   "name": "python"
  }
 },
 "nbformat": 4,
 "nbformat_minor": 2
}
