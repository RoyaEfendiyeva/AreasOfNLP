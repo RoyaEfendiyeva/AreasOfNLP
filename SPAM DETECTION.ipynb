{
 "cells": [
  {
   "cell_type": "markdown",
   "metadata": {},
   "source": [
    "#### SPAM DETECTION"
   ]
  },
  {
   "cell_type": "code",
   "execution_count": null,
   "metadata": {},
   "outputs": [],
   "source": [
    "from sklearn.feature_extraction.text import TfidfVectorizer\n",
    "from sklearn.naive_bayes import MultinomialNB\n",
    "from sklearn.pipeline import Pipeline\n",
    "from sklearn.model_selection import train_test_split\n",
    "\n",
    "# The main database for spam and ham messages\n",
    "documents = [\n",
    "    \"Free money!!!\", \"Win a lottery!\", \"Important information about your account\",\n",
    "    \"Call now for a prize\", \"Meeting on Monday\", \"Discounts and offers just for you\",\n",
    "    \"Hello, how are you?\", \"Don't miss this opportunity\", \"Reminder for your appointment\",\n",
    "    \"Congratulations, you've won!\",\"You have won a cash prize!\", \"Limited time offer just for you\", \n",
    "    \"Earn money quickly\", \"Get a free gift card\", \"New product launch!\", \n",
    "    \"Sale ends soon\", \"Happy hour at your favorite restaurant\",\"Don't miss out on this chance\",\n",
    "    \"Special promotion just for you\",\"Congratulations, you are a winner!\", \"Exclusive offer for you\",\n",
    "    \"We have a new update for your account\", \"Please contact us for more information\", \"The meeting is rescheduled to next week\", \n",
    "    \"Here are the latest updates on our services\", \"Reminder: Your subscription ends soon\", \"Confirm your attendance for the seminar\",\n",
    "    \"Your application is approved\", \"Welcome back! Check out our new features\",\"Scheduled a meeting\"\n",
    "]\n",
    "\n",
    "labels = [1, 1, 0, 1, 0, 1, 0, 1, 0, 1, 1, 1, 1, 1, 0, 1, 0, 1, 1, 1,1, 0, 0, 0, 0, 0, 0, 0, 0,0] # 1: Spam, 0: Not Spam\n",
    "\n",
    "# A database where new messages are stored\n",
    "new_messages = [\n",
    "    \"Win a free trip to Bahamas!\", \"Exclusive offer just for you\", \"Your invoice is ready\",\n",
    "    \"Special discount on our services\", \"Happy holidays from our team\", \"Urgent: Update your account information\",\n",
    "    \"Exclusive Offer!\",\"Congratulations! You've won a large cash prize. Click the link below to claim your prize.\",\n",
    "    \"Discounts and offers on the latest products.\",\" Shop now and save big!\",\n",
    "    \"Hello, we have scheduled a meeting with you. Please confirm the date and time by contacting us.\",\n",
    "    \"We need to discuss the project with you. Please select one of the proposed dates and respond.\",\n",
    "    \"There are new updates related to your account. Please check the system for recent changes.\",\n",
    "    \"Information about an upcoming seminar. If you wish to participate, please remember to register.\",]\n",
    "\n",
    "# Divide into train and test parts\n",
    "X_train, X_test, y_train, y_test = train_test_split(documents, labels, test_size=0.3, random_state=42)\n",
    "\n",
    "# Create a pipeline\n",
    "pipeline = Pipeline([\n",
    "    ('tfidf', TfidfVectorizer()),  # TF-IDF vectorization\n",
    "    ('nb', MultinomialNB())        # Adding a Naive Bayes model\n",
    "])\n",
    "\n",
    "# To train the model\n",
    "pipeline.fit(X_train, y_train)\n",
    "\n",
    "def classify_message(message):\n",
    "    # New message classification\n",
    "    prediction = pipeline.predict([message])\n",
    "    return \"Spam\" if prediction[0] == 1 else \"Not Spam\"\n",
    "\n",
    "# Categorize new messages\n",
    "print(\"Classifying new messages:\\n\")\n",
    "for message in new_messages:\n",
    "    result = classify_message(message)\n",
    "    print(f\"Message: {message}\\nClassification: {result}\\n\")\n"
   ]
  }
 ],
 "metadata": {
  "language_info": {
   "name": "python"
  }
 },
 "nbformat": 4,
 "nbformat_minor": 2
}
